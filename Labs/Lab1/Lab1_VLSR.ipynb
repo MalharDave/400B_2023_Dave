{
 "cells": [
  {
   "cell_type": "markdown",
   "metadata": {},
   "source": [
    "# In Class Lab 1\n",
    "\n",
    "### Due by 5 PM Jan 31st in your github repository 'Labs/Lab1' folder\n",
    "\n",
    "## Part A:  The Local Standard of Rest\n",
    "Proper motion of Sgr A* from Reid & Brunthaler 2004\n",
    "$\\mu = 6.379$ mas/yr \n",
    "\n",
    "Peculiar motion of the sun, $v_\\odot$ = 12.24 km/s  (Schonrich 2010)\n",
    "\n",
    "\n",
    "$v_{tan} = 4.74 \\frac{\\mu}{\\rm mas/yr} \\frac{R_o}{\\rm kpc} = V_{LSR} + v_\\odot$\n",
    "\n",
    "\n",
    "### a)\n",
    "\n",
    "Create a function called VLSR to compute the local standard of res (V$_{LSR}$).\n",
    "\n",
    "The function should take as input: the solar radius (R$_o$), the proper motion (mu)\n",
    "and the peculiar motion of the sun in the $v_\\odot$ direction.\n",
    "\n",
    "Compute V$_{LSR}$ using three different values R$_o$: \n",
    "1. Water Maser Distance for the Sun :  R$_o$ = 8.34 kpc   (Reid 2014 ApJ 783) \n",
    "2. GRAVITY Collaboration Distance for the Sun:  R$_o$ = 8.178 kpc   (Abuter+2019 A&A 625)\n",
    "3. Value for Distance to Sun listed in Sparke & Gallagher : R$_o$ = 7.9 kpc \n"
   ]
  },
  {
   "cell_type": "code",
   "execution_count": 1,
   "metadata": {},
   "outputs": [],
   "source": [
    "# Import Modules \n",
    "import numpy as np # import numpy\n",
    "import astropy.units as u # import astropy units\n",
    "from astropy import constants as const # import astropy constants\n",
    "def VLSR(Ro,mu=6.379,vsun=12.24*u.km/u.s): #kinda not correct because we didn't take units for proper motion but it's k\n",
    "    '''This function will compute the velocity at the local standard of rest\n",
    "                VLSR = 4.74*mu*Ro - vsun\n",
    "                \n",
    "         Inputs: \n",
    "                 Ro: 'astropy quantity'\n",
    "                      The distance from the Sun to the galactic centre in kpc\n",
    "                 mu: 'float'  \n",
    "                     The proper motion of Sag A* in mas/yr\n",
    "                     Default is from Reid & Brunthaler 2004\n",
    "                 vsun: 'astropy quantity'  \n",
    "                 The peculiar motion of the Sun in v direction (km/s) \n",
    "                 Default is from Schonrich+2010 \n",
    "        Outputs: \n",
    "                VLSR: 'astropy quantity'\n",
    "                        The velocity of the local standard of rest (km/s)\n",
    "                        \n",
    "               \n",
    "            \n",
    "        '''\n",
    "    return 4.74*mu*(Ro/u.kpc)*u.km/u.s - vsun\n",
    "\n"
   ]
  },
  {
   "cell_type": "code",
   "execution_count": 2,
   "metadata": {},
   "outputs": [],
   "source": [
    "#Define our distances \n",
    "RoReid =8.34*u.kpc #Distance from Reid at al. 2014 in kpc \n",
    "RoGravity = 8.178*u.kpc #Distance from the Gravity Collab Abuter+2019 in kpc \n",
    "RoSG =7.9*u.kpc #Distance from the textbook Sparke @ Gallagher "
   ]
  },
  {
   "cell_type": "code",
   "execution_count": 3,
   "metadata": {},
   "outputs": [
    {
     "name": "stdout",
     "output_type": "stream",
     "text": [
      "239.9320764 km / s\n"
     ]
    }
   ],
   "source": [
    "#Compute VLSR using Ro from Reid 2014\n",
    "VLSR_Reid = VLSR(RoReid)\n",
    "print(VLSR_Reid)\n"
   ]
  },
  {
   "cell_type": "code",
   "execution_count": 4,
   "metadata": {},
   "outputs": [
    {
     "name": "stdout",
     "output_type": "stream",
     "text": [
      "235.0 km / s\n"
     ]
    }
   ],
   "source": [
    "#Compute VSLR using Ro from Gravity Collab \n",
    "VLSR_Gravity = VLSR(RoGravity)\n",
    "print(np.round(VLSR_Gravity))"
   ]
  },
  {
   "cell_type": "code",
   "execution_count": 5,
   "metadata": {},
   "outputs": [
    {
     "name": "stdout",
     "output_type": "stream",
     "text": [
      "227.0 km / s\n"
     ]
    }
   ],
   "source": [
    "VLSR_SG = VLSR(RoSG)\n",
    "print(np.round(VLSR_SG))"
   ]
  },
  {
   "cell_type": "markdown",
   "metadata": {},
   "source": [
    "### b)\n",
    "\n",
    "compute the orbital period of the sun in Gyr using R$_o$ from the GRAVITY Collaboration (assume circular orbit)\n",
    "\n",
    "Note that 1 km/s $\\sim$ 1kpc/Gyr"
   ]
  },
  {
   "cell_type": "code",
   "execution_count": 18,
   "metadata": {},
   "outputs": [],
   "source": [
    "def TorbSun(R,V):\n",
    "    '''This function will compute the orbital period of the Sun\n",
    "    T= 2 pi R / V\n",
    "    \n",
    "    Inputs: \n",
    "        R: 'Astropy quantity'\n",
    "            Distance in kpc (Distance to the galatic center)\n",
    "        \n",
    "        V: 'Astropy quantity'\n",
    "            Velocity in km/s (Velocity of Sun in v direction)\n",
    "    Outputs: \n",
    "        'astropy quantity'\n",
    "        Orbital period of Gyr\n",
    "        \n",
    "    '''\n",
    "    VkpcGyr = V.to(u.kpc/u.Gyr) #converting v from km/s to kpc/Gyr\n",
    "    T= 2*np.pi*R/VkpcGyr #Orbital Period\n",
    "    return T"
   ]
  },
  {
   "cell_type": "code",
   "execution_count": 19,
   "metadata": {},
   "outputs": [
    {
     "name": "stdout",
     "output_type": "stream",
     "text": [
      "247.27376988000003 km / s\n"
     ]
    }
   ],
   "source": [
    "#Vrlocity of the sun = VSLR+peculiar motion \n",
    "Vsunpeculiar = 12.24 *u.km/u.s\n",
    "VSun= VLSR_Gravity +Vsunpeculiar \n",
    "print(VSun)"
   ]
  },
  {
   "cell_type": "code",
   "execution_count": 20,
   "metadata": {},
   "outputs": [],
   "source": [
    "#Compute the orbital period of the Sun\n",
    "#Use Ro from gravity collab\n",
    "\n",
    "T_Grav= TorbSun(RoGravity,VSun)\n",
    "\n"
   ]
  },
  {
   "cell_type": "markdown",
   "metadata": {},
   "source": [
    "### c)\n",
    "\n",
    "Compute the number of rotations about the GC over the age of the universe (13.8 Gyr)"
   ]
  },
  {
   "cell_type": "code",
   "execution_count": 21,
   "metadata": {},
   "outputs": [
    {
     "name": "stdout",
     "output_type": "stream",
     "text": [
      "13.8 Gyr\n",
      "0.20318680562272234 Gyr\n"
     ]
    }
   ],
   "source": [
    "# Age of universe / Orbital Period \n",
    "Age= 13.8*u.Gyr #Age of the universe\n",
    "#print(Age/T_Grav)\n",
    "print(Age)\n",
    "print(T_Grav)"
   ]
  },
  {
   "cell_type": "markdown",
   "metadata": {},
   "source": [
    "## Part B  Dark Matter Density Profiles\n",
    "\n",
    "### a)\n",
    "Try out Fitting Rotation Curves \n",
    "[here](http://wittman.physics.ucdavis.edu/Animations/RotationCurve/GalacticRotation.html)\n",
    "\n",
    "\n",
    "### b)\n",
    "\n",
    "\n",
    "In the Isothermal Sphere model, what is the mass enclosed within the solar radius (R$_o$) in units of M$_\\odot$? \n",
    "\n",
    "Recall that for the Isothermal sphere :\n",
    "$\\rho(r) = \\frac{V_{LSR}^2}{4\\pi G r^2}$\n",
    "\n",
    "Where $G$ = 4.4985e-6 kpc$^3$/Gyr$^2$/M$_\\odot$, r is in kpc and $V_{LSR}$ is in km/s\n",
    "\n",
    "What about at 260 kpc (in units of  M$_\\odot$) ? "
   ]
  },
  {
   "cell_type": "code",
   "execution_count": 25,
   "metadata": {},
   "outputs": [],
   "source": [
    "#Gravitational constant \n",
    "Grav= const.G.to((u.kpc)**3/(u.Gyr)**2/u.Msun)"
   ]
  },
  {
   "cell_type": "code",
   "execution_count": 29,
   "metadata": {},
   "outputs": [],
   "source": [
    "# density profile rho= VLSR*2/(4*pi*G*R*2)\n",
    "# Mass - Integrate rho dV\n",
    "#       = rho g/4*pi*R**2 dr \n",
    "#       = (VLSR**2 / G/ 4*pi*R**2) * (4*pi*r**2)dr \n",
    "\n",
    "def MassIso(r,VLSR):\n",
    "    '''This function will compute the dark matter mass enclosed within a given distance \n",
    "       assuming an Isothermal sphere model for the dark matter\n",
    "       \n",
    "       Inputs: \n",
    "       r : 'astropy quantity'\n",
    "           Distance to the Galatic center (kpc)\n",
    "       VLSR: 'astropy quantity'\n",
    "           Velocity of the local standard of rest (km/s)\n",
    "       Outputs:\n",
    "       M: Mass enclosed within r in units of Msun \n",
    "       \n",
    "    \n",
    "    '''\n",
    "    VLSRkpcGyr= VLSR.to(u.kpc/u.Gyr) #convering km/s to kpc/Gyr\n",
    "    M= VLSRkpcGyr**2/ Grav * r #mass of isothermal sphere\n",
    "    return M\n"
   ]
  },
  {
   "cell_type": "code",
   "execution_count": 30,
   "metadata": {},
   "outputs": [
    {
     "name": "stdout",
     "output_type": "stream",
     "text": [
      "105038025820.79904 solMass\n"
     ]
    }
   ],
   "source": [
    "MIsoSolar=MassIso(RoGravity,VLSR_Gravity)\n",
    "print(MIsoSolar)"
   ]
  },
  {
   "cell_type": "code",
   "execution_count": 31,
   "metadata": {},
   "outputs": [
    {
     "name": "stdout",
     "output_type": "stream",
     "text": [
      "1.05e+11 solMass\n"
     ]
    }
   ],
   "source": [
    "#print in scientific notation \n",
    "print(f\"{MIsoSolar:.2e}\")\n"
   ]
  },
  {
   "cell_type": "code",
   "execution_count": 32,
   "metadata": {},
   "outputs": [
    {
     "name": "stdout",
     "output_type": "stream",
     "text": [
      "3.34e+12 solMass\n"
     ]
    }
   ],
   "source": [
    "#compute mass eithin 260 kpc\n",
    "MIso260= MassIso(260*u.kpc,VLSR_Gravity)\n",
    "print(f\"{MIso260:.2e}\")"
   ]
  },
  {
   "cell_type": "markdown",
   "metadata": {},
   "source": [
    "## c) \n",
    "\n",
    "The Leo I satellite is one of the fastest moving satellite galaxies we know. \n",
    "\n",
    "\n",
    "It is moving with 3D velocity of magnitude: Vtot = 196 km/s at a distance of 260 kpc (Sohn 2013 ApJ 768)\n",
    "\n",
    "If we assume that Leo I is moving at the escape speed:\n",
    "\n",
    "$v_{esc}^2 = 2|\\Phi| = 2 \\int G \\frac{\\rho(r)}{r}dV $ \n",
    "\n",
    "and assuming the Milky Way is well modeled by a Hernquist Sphere with a scale radius of $a$= 30 kpc, what is the minimum mass of the Milky Way (in units of M$_\\odot$) ?  \n",
    "\n",
    "How does this compare to estimates of the mass assuming the Isothermal Sphere model at 260 kpc (from your answer above)"
   ]
  },
  {
   "cell_type": "code",
   "execution_count": 33,
   "metadata": {},
   "outputs": [],
   "source": [
    "#Potential for a hernquist profile \n",
    "#Phi = -G*M/(r+a)\n",
    "\n",
    "#Using the potential for a Hernquist Profile, the equation for the escape speed becomes: \n",
    "# vesc**2 = 2*G*M/(r+a)\n",
    "\n",
    "#Rearrange this for escape speed equation for M \n",
    "# M= vesc**2/2 /G *(r+a)\n",
    "\n",
    "def MassFromVesc( vesc, r , a):\n",
    "    '''Determines the total mass needed for a given escape speed assuming a Hernquist profile for the dark matter halo \n",
    "        M= vesc**2*(r+a) /2/G\n",
    " Inputs:\n",
    "    vesc: 'astropy quantity'\n",
    "       The escape speed in km/s (or the speed of the satellite)\n",
    "       r: 'astropy quantity'\n",
    "           The distance from the Galactic center (kpc)\n",
    "       a: 'astropy quantity'\n",
    "       The hernquist scale length (kpc)\n",
    "    Outputs: \n",
    "       M: 'astropy quantity'\n",
    "       The total mass within r in Msun \n",
    "       '''\n",
    "    vescKpcGyr = vesc.to(u.kpc/u.Gyr) #converting velocity units to kpc/Gyr\n",
    "    M=vescKpcGyr**2/2/Grav*(r+a)\n",
    "    return M \n"
   ]
  },
  {
   "cell_type": "code",
   "execution_count": 34,
   "metadata": {},
   "outputs": [],
   "source": [
    "VLeo1= 196*u.km/u.s #Speed of Leo 1 from Sohn 2013 ApJ 768\n",
    "a= 30*u.kpc #Scale radius for the Hernquist Halo \n",
    "r= 260*u.kpc #Galactocentric distance to leo 1\n",
    "\n"
   ]
  },
  {
   "cell_type": "code",
   "execution_count": 35,
   "metadata": {},
   "outputs": [
    {
     "name": "stdout",
     "output_type": "stream",
     "text": [
      "1.295147e+12 solMass\n"
     ]
    },
    {
     "data": {
      "text/latex": [
       "$2.5784204 \\; \\mathrm{}$"
      ],
      "text/plain": [
       "<Quantity 2.57842045>"
      ]
     },
     "execution_count": 35,
     "metadata": {},
     "output_type": "execute_result"
    }
   ],
   "source": [
    "#Compute the mass needed to keep Leo 1 bound \n",
    "MLeo1=MassFromVesc(VLeo1,r,a)\n",
    "print(f\"{MLeo1:2e}\")\n",
    "MIso260/MLeo1"
   ]
  },
  {
   "cell_type": "code",
   "execution_count": null,
   "metadata": {},
   "outputs": [],
   "source": []
  }
 ],
 "metadata": {
  "kernelspec": {
   "display_name": "Python 3 (ipykernel)",
   "language": "python",
   "name": "python3"
  },
  "language_info": {
   "codemirror_mode": {
    "name": "ipython",
    "version": 3
   },
   "file_extension": ".py",
   "mimetype": "text/x-python",
   "name": "python",
   "nbconvert_exporter": "python",
   "pygments_lexer": "ipython3",
   "version": "3.9.7"
  }
 },
 "nbformat": 4,
 "nbformat_minor": 2
}
