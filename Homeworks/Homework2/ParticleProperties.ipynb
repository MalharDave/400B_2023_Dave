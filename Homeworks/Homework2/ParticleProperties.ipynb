{
 "cells": [
  {
   "cell_type": "code",
   "execution_count": 1,
   "id": "b6ca1e3b",
   "metadata": {},
   "outputs": [],
   "source": [
    "import numpy as np #importing numpy library\n",
    "import astropy.units as u #importing astropy's unit library to get our answers with their units\n",
    "from Readfile import Read #importing Read function from the Readfile program we created\n",
    "\n",
    "#defining a function to calculate the distance in 3-d space\n",
    "#input a, b, c signifying 3 directions \n",
    "#returning total distance d \n",
    "def magd(a,b,c): \n",
    "    d= np.sqrt(a**2+b**2+c**2)  #squaring all the 3 directions and then taking their square root \n",
    "    return d \n",
    "#defining a function to calculate the velocity in 3-d space\n",
    "#input d, e, f signifying 3 velocities\n",
    "#returning total distance v \n",
    "def magv(d,e,f):\n",
    "    v= np.sqrt(d**2+e**2+f**2) \n",
    "    return v\n",
    "\n"
   ]
  },
  {
   "cell_type": "code",
   "execution_count": 2,
   "id": "b4f28886",
   "metadata": {},
   "outputs": [],
   "source": [
    "# This function gives the magnitude of distance in kpc, magnitude of velocity in km/s,mass in units of M_Sun\n",
    "# Inputs: filename; particle type ; particle number\n",
    "# Returns: Sum of a, b, c in kpc\n",
    "def ParticleInfo(filename,particle_type,particle_number):\n",
    "    file=Read(filename) #using Read to get all the values from Readfile.py\n",
    "    #data=file[2]\n",
    "    t,N,data = Read(\"MW_000.txt\")\n",
    "    #using variables t for time, N for number of particles and data to get specifics \n",
    "    #about them from our text file\n",
    "    index= np.where(data['type'] == particle_type)\n",
    "    x=data['x'][index][particle_number] #taking distance in x direction\n",
    "    x=x*u.kpc #converting it to kpc \n",
    "    y=data['y'][index][particle_number] # #taking distance in y direction\n",
    "    y=y*u.kpc #converting it to kpc \n",
    "    z=data['z'][index][particle_number]  #taking distance in z direction\n",
    "    \n",
    "    z=z*u.kpc #converting it to kpc \n",
    "    m=data['m'][particle_number] #taking the mass of the given particle\n",
    "    m=(m*10**-10)*u.solMass #converting the mass to be expressed in the form of solar masses, and multilying by 10^-10 since \n",
    "    #that is default in text file \n",
    "    m-np.round(m,3)\n",
    "    vx=data['vx'][index][particle_number] #taking velocity in x direction \n",
    "    vx=vx*u.km/u.s #converting it to km/s\n",
    "    vy=data['vy'] [index][particle_number]#taking velocity in y direction \n",
    "    vy=vy*u.km/u.s #converting it to km/s\n",
    "    vz=data['vz'][index][particle_number]#taking velocity in z direction \n",
    "    vz=vz*u.km/u.s #converting it to km/s\n",
    "    \n",
    "    mag_d=magd(x,y,z) #Calling the distance magnitude function to calculate total 3d distance\n",
    "    mag_d=np.round(mag_d,3) #rounding the 3d distance to the 3rd decimal value using numpy.round \n",
    "    mag_v=magv(vx,vy,vz) #Calling the velocity magnitude function to calculate total 3d velocity\n",
    "    mag_v=np.round(mag_v,3) #rounding the 3d velocity to the 3rd decimal value using numpy.roun\n",
    "    return m,mag_d,mag_v #returning the 3 things we need to calculate at the end, mass, and distance and velocity in 3d \n",
    "\n",
    "    "
   ]
  },
  {
   "cell_type": "code",
   "execution_count": 3,
   "id": "7a61cccc",
   "metadata": {},
   "outputs": [
    {
     "name": "stdout",
     "output_type": "stream",
     "text": [
      "[(1., 0.00394985, -2.51725e+00,  19.1588 ,  5.28528e+01,  1.34962e-01, 116.109   ,  -85.3822 )\n",
      " (1., 0.00394985, -2.86601e+02, 298.455  ,  3.91692e+02,  5.02658e+01, -46.4521  ,   15.1825 )\n",
      " (1., 0.00394985, -5.05945e-01, -28.6337 , -8.39565e+01,  1.13833e+01,  -0.974253,  -39.3509 )\n",
      " ...\n",
      " (3., 0.00010005, -3.29432e+00,   3.36725,  1.09023e-01,  2.18821e+02,  73.4462  ,   -8.81108)\n",
      " (3., 0.00010005,  2.57806e-01,   5.31409, -6.62670e-01,  5.46121e+01, -19.0044  , -190.184  )\n",
      " (3., 0.00010005, -6.57662e-01,   3.32552, -2.51660e+00, -1.37672e+01,  44.8175  ,   16.7124 )]\n",
      "[(1., 0.00394985, -2.51725e+00,  19.1588 ,  5.28528e+01,  1.34962e-01, 116.109   ,  -85.3822 )\n",
      " (1., 0.00394985, -2.86601e+02, 298.455  ,  3.91692e+02,  5.02658e+01, -46.4521  ,   15.1825 )\n",
      " (1., 0.00394985, -5.05945e-01, -28.6337 , -8.39565e+01,  1.13833e+01,  -0.974253,  -39.3509 )\n",
      " ...\n",
      " (3., 0.00010005, -3.29432e+00,   3.36725,  1.09023e-01,  2.18821e+02,  73.4462  ,   -8.81108)\n",
      " (3., 0.00010005,  2.57806e-01,   5.31409, -6.62670e-01,  5.46121e+01, -19.0044  , -190.184  )\n",
      " (3., 0.00010005, -6.57662e-01,   3.32552, -2.51660e+00, -1.37672e+01,  44.8175  ,   16.7124 )]\n"
     ]
    }
   ],
   "source": [
    "calling = ParticleInfo(\"MW_000.txt\",2,99) #We call our Particle info function , 2 is for disk stars so we enter that in\n",
    "#NOTE: We call 99 instead of 100 because it starts from 0, so technically 100th particle is 99 in number "
   ]
  },
  {
   "cell_type": "code",
   "execution_count": 4,
   "id": "bc2c27f8",
   "metadata": {},
   "outputs": [
    {
     "name": "stdout",
     "output_type": "stream",
     "text": [
      "The mass of the given disk particle is: 3.9498500000000006e-13 solMass\n",
      "The distance of the given particle is:  4.245 kpc\n",
      "The velocity of the given particle is:  312.135 km / s\n",
      "The distance of the given particle in light years is:  13845.338234075754 lyr\n"
     ]
    }
   ],
   "source": [
    "#printing out the mass, distance magnitude and velocity magnitude for designated galaxy in the units asked \n",
    "\n",
    "print(\"The mass of the given disk particle is:\" ,calling[0]) #3.949*10-13 solMass\n",
    "print(\"The distance of the given particle is: \" ,calling[1])#4.245 kpc\n",
    "print(\"The velocity of the given particle is: \", calling[2])#312.135 km / s\n",
    "\n",
    "print(\"The distance of the given particle in light years is: \" ,calling[1].to(u.lyr))#13845.338234075754 lyr"
   ]
  },
  {
   "cell_type": "code",
   "execution_count": null,
   "id": "a557f0da",
   "metadata": {},
   "outputs": [],
   "source": []
  },
  {
   "cell_type": "code",
   "execution_count": null,
   "id": "007a4281",
   "metadata": {},
   "outputs": [],
   "source": []
  },
  {
   "cell_type": "code",
   "execution_count": null,
   "id": "972bf6c3",
   "metadata": {},
   "outputs": [],
   "source": []
  }
 ],
 "metadata": {
  "kernelspec": {
   "display_name": "Python 3 (ipykernel)",
   "language": "python",
   "name": "python3"
  },
  "language_info": {
   "codemirror_mode": {
    "name": "ipython",
    "version": 3
   },
   "file_extension": ".py",
   "mimetype": "text/x-python",
   "name": "python",
   "nbconvert_exporter": "python",
   "pygments_lexer": "ipython3",
   "version": "3.9.7"
  }
 },
 "nbformat": 4,
 "nbformat_minor": 5
}
