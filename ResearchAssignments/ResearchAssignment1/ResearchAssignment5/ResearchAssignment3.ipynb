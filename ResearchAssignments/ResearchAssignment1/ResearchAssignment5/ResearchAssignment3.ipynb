{
 "cells": [
  {
   "cell_type": "code",
   "execution_count": 1,
   "id": "46343517",
   "metadata": {},
   "outputs": [],
   "source": [
    "#topic of research project: finding objects at distances around that of the sun in M31\n",
    "\n",
    "#we have to see the distance distribution of stars at a comparable distance from the centre of their galaxy to that of the sun \n",
    "#\n",
    "from ReadFile import Read\n",
    "import numpy as np #importing numpy library\n",
    "import astropy.units as u #importing astropy's unit library to get our answers with their units\n",
    "import matplotlib.pyplot as plt\n",
    "from CenterOfMass2 import CenterOfMass\n",
    "#CORRECT FOR COM OF MILKY WAY \n",
    "#MAKE SURE TO HAVE COM AFTER X,Y,Z POSITION\n",
    "#no need to have a for loop for an ARRAY\n",
    "#np.where index \n",
    "\n",
    "#rotate disk in x,y plane "
   ]
  },
  {
   "cell_type": "code",
   "execution_count": 3,
   "id": "320bdf95",
   "metadata": {},
   "outputs": [
    {
     "ename": "SyntaxError",
     "evalue": "invalid syntax (1672089162.py, line 28)",
     "output_type": "error",
     "traceback": [
      "\u001b[1;36m  Input \u001b[1;32mIn [3]\u001b[1;36m\u001b[0m\n\u001b[1;33m    if  difference_distance<= 0.1 #finding possible sunlike stars\u001b[0m\n\u001b[1;37m                                  ^\u001b[0m\n\u001b[1;31mSyntaxError\u001b[0m\u001b[1;31m:\u001b[0m invalid syntax\n"
     ]
    }
   ],
   "source": [
    "def magd(a,b,c):\n",
    "    d= np.sqrt(a**2+b**2+c**2) \n",
    "    return d\n",
    "#below is a general function to show sun-like stars within a possible area\n",
    "#note, we have to consider the trajectory at different snapshots or time period, so this dataset is inadequate\n",
    "def sunlike_stars(filename,particle_type):\n",
    "    file=Read(filename) #using Read to get all the values from Readfile.py\n",
    "    #data=file[2]\n",
    "    t,N,data = Read(\"MW_000.txt\")\n",
    "    #using variables t for time, N for number of particles and data to get specifics \n",
    "    #about them from our text file\n",
    "    com = CenterOfMass(\"MW_000.txt\", 2)\n",
    "    index= np.where(data['type'] == particle_type)\n",
    "    x=data['x'][index] #taking distance in x direction\n",
    "    \n",
    "    y=data['y'][index] # #taking distance in y direction\n",
    "   \n",
    "    z=data['z'][index]  #taking distance in z direction\n",
    "    total_distance=magd(x,y,z)\n",
    "    \n",
    "    sun_distance=8.29 # target distance of the sun in kpc   \n",
    "    difference_distance= np.abs(total_distance-sun_distance) #finding out a comparable star at the distance of the sun\n",
    "    #sun=distances.index(min(difference_distance))\n",
    "    #sun=np.min(difference_distance)\n",
    "    sunlike=[]\n",
    "    for i in difference_distance: \n",
    "        \n",
    "        if  difference_distance<= 0.1 #finding possible sunlike stars \n",
    "            sunlike.append(i)\n",
    "    return sunlike "
   ]
  },
  {
   "cell_type": "code",
   "execution_count": null,
   "id": "9ac55fc4",
   "metadata": {},
   "outputs": [],
   "source": [
    "calling =sunlike_stars(\"MW_000.txt\",2)\n",
    "calling.size"
   ]
  },
  {
   "cell_type": "code",
   "execution_count": null,
   "id": "4713f2c5",
   "metadata": {},
   "outputs": [],
   "source": [
    "# Create a scatterplot of the sunlike candidates\n",
    "plt.scatter(sunlike, y)\n",
    "\n",
    "# Add title and axis labels\n",
    "plt.title('Scatterplot of showing sunlike particles at time= ')\n",
    "\n",
    "\n",
    "# Show the plot\n",
    "plt.show()"
   ]
  },
  {
   "cell_type": "code",
   "execution_count": null,
   "id": "c3f8271d",
   "metadata": {},
   "outputs": [],
   "source": [
    "# we might have to do an n body simulation to show the trend of the distance of the sunlike stars over a period of time "
   ]
  }
 ],
 "metadata": {
  "kernelspec": {
   "display_name": "Python 3 (ipykernel)",
   "language": "python",
   "name": "python3"
  },
  "language_info": {
   "codemirror_mode": {
    "name": "ipython",
    "version": 3
   },
   "file_extension": ".py",
   "mimetype": "text/x-python",
   "name": "python",
   "nbconvert_exporter": "python",
   "pygments_lexer": "ipython3",
   "version": "3.9.7"
  }
 },
 "nbformat": 4,
 "nbformat_minor": 5
}
