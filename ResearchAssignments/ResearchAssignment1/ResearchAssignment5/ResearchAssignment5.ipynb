{
 "cells": [
  {
   "cell_type": "code",
   "execution_count": 1,
   "id": "46343517",
   "metadata": {},
   "outputs": [
    {
     "name": "stdout",
     "output_type": "stream",
     "text": [
      "MW COM xyz position: [-2.07  2.95 -1.45] kpc and xyz velocity: [ 0.94  6.32 -1.35] km / s\n",
      "M31 COM xyz position: [-377.66  611.43 -284.64] kpc and xyz velocity: [ 0.94  6.32 -1.35] km / s\n",
      "M33 COM xyz position: [-476.22  491.44 -412.4 ] kpc and xyz velocity: [ 44.42 101.78 142.23] km / s\n",
      "Separation between the MW and M31 = 769.0 kpc\n",
      "Relative Velocity between the MW and M31 = 118.0 km / s\n",
      "Relative Position between M33 and M31 =  201.0 kpc\n",
      "Relative Velocity between M33 and M31 =  199.0 km / s\n"
     ]
    }
   ],
   "source": [
    "#topic of research project: finding objects at distances around that of the sun in M31\n",
    "\n",
    "#we have to see the distance distribution of stars at a comparable distance from the centre of their galaxy to that of the sun \n",
    "#\n",
    "from ReadFile import Read\n",
    "import numpy as np #importing numpy library\n",
    "import astropy.units as u #importing astropy's unit library to get our answers with their units\n",
    "import matplotlib.pyplot as plt\n",
    "#from CenterOfMass2 import CenterOfMass\n",
    "from CenterOfMass_Solution import CenterOfMass\n",
    "#CORRECT FOR COM OF MILKY WAY \n",
    "#MAKE SURE TO HAVE COM AFTER X,Y,Z POSITION\n",
    "#no need to have a for loop for an ARRAY\n",
    "#np.where index \n",
    "\n",
    "#rotate disk in x,y plane \n"
   ]
  },
  {
   "cell_type": "code",
   "execution_count": null,
   "id": "384641d1",
   "metadata": {},
   "outputs": [],
   "source": []
  },
  {
   "cell_type": "code",
   "execution_count": 12,
   "id": "320bdf95",
   "metadata": {},
   "outputs": [],
   "source": [
    "def magd(a,b,c):\n",
    "    d= np.sqrt(a**2+b**2+c**2) \n",
    "    return d\n",
    "#below is a general function to show sun-like stars within a possible area\n",
    "#note, we have to consider the trajectory at different snapshots or time period, so this dataset is inadequate\n",
    "def sunlike_stars(filename,particle_type):\n",
    "    file=Read(filename) #using Read to get all the values from Readfile.py\n",
    "    #data=file[2]\n",
    "    t,N,data = Read(\"MW_000.txt\")\n",
    "    #using variables t for time, N for number of particles and data to get specifics \n",
    "    #about them from our text file\n",
    "    index= np.where(data['type'] == particle_type)\n",
    "    \n",
    "    \n",
    "   \n",
    "    M31_COM = CenterOfMass(\"MW_000.txt\", 2)\n",
    "    M31_COM_p = M31_COM.COM_P(0.1).value\n",
    "    print( M31_COM_p)\n",
    "    x=data['x'][index] #taking distance in x direction\n",
    "    \n",
    "    y=data['y'][index] # #taking distance in y direction\n",
    "   \n",
    "    z=data['z'][index]  #taking distance in z direction\n",
    "    print(z)\n",
    "    z.size\n",
    "    total_distance=np.sqrt(x**2+y**2+z**2) \n",
    "    M31_COM_p = np.repeat(M31_COM_p, 25000, axis=0)\n",
    "    #M31_COM_p_reshaped = np.tile(M31_COM_p, (total_distance.shape[0]))\n",
    "    distance_from_COM = total_distance - M31_COM_p\n",
    "    sun_distance=8.29 # target distance of the sun in kpc   \n",
    "    #difference_distance= np.abs(total_distance-sun_distance) #finding out a comparable star at the distance of the sun\n",
    "    \n",
    "    difference_distance= np.abs(distance_from_COM-sun_distance)\n",
    "    #sun=distances.index(min(difference_distance))\n",
    "    #sun=np.min(difference_distance)\n",
    "      \n",
    "    \n",
    "        \n",
    "    sunlike=np.where(difference_distance<= 0.1)[0]  #finding possible sunlike stars \n",
    "            \n",
    "    return sunlike "
   ]
  },
  {
   "cell_type": "code",
   "execution_count": 13,
   "id": "9ac55fc4",
   "metadata": {},
   "outputs": [
    {
     "name": "stdout",
     "output_type": "stream",
     "text": [
      "[-2.07  2.95 -1.45]\n",
      "[-1.3441   -1.28954  -0.245755 ... -2.1069   -1.63853  -1.46021 ]\n"
     ]
    }
   ],
   "source": [
    "\n",
    "calling=sunlike_stars(\"MW_000.txt\",2)\n",
    "t, N, data = Read(\"MW_000.txt\")\n",
    "difference_distance = np.abs(magd(data['x'][calling], data['y'][calling], data['z'][calling]) - 8.29)\n"
   ]
  },
  {
   "cell_type": "code",
   "execution_count": 14,
   "id": "4713f2c5",
   "metadata": {},
   "outputs": [
    {
     "data": {
      "image/png": "[encoded data removed]",
      "text/plain": [
       "<Figure size 432x288 with 1 Axes>"
      ]
     },
     "metadata": {
      "needs_background": "light"
     },
     "output_type": "display_data"
    },
    {
     "name": "stdout",
     "output_type": "stream",
     "text": [
      "822\n"
     ]
    }
   ],
   "source": [
    "# Create a scatterplot of the sunlike candidates\n",
    "plt.scatter( difference_distance,calling)\n",
    "\n",
    "# Add title and axis labels\n",
    "plt.title('Scatterplot of showing sunlike particles at time=0, COM accounted, MW tilt not accounted ')\n",
    "\n",
    "\n",
    "# Show the plot\n",
    "plt.show()\n",
    "print(difference_distance.size)"
   ]
  },
  {
   "cell_type": "code",
   "execution_count": 16,
   "id": "c3f8271d",
   "metadata": {},
   "outputs": [
    {
     "ename": "NameError",
     "evalue": "name 'galactic_coords' is not defined",
     "output_type": "error",
     "traceback": [
      "\u001b[1;31m---------------------------------------------------------------------------\u001b[0m",
      "\u001b[1;31mNameError\u001b[0m                                 Traceback (most recent call last)",
      "Input \u001b[1;32mIn [16]\u001b[0m, in \u001b[0;36m<cell line: 3>\u001b[1;34m()\u001b[0m\n\u001b[0;32m      1\u001b[0m \u001b[38;5;66;03m# we might have to do an n body simulation to show the trend of the distance of the sunlike stars over a period of time\u001b[39;00m\n\u001b[0;32m      2\u001b[0m \u001b[38;5;66;03m#before that, we have to consider the galactic plane \u001b[39;00m\n\u001b[1;32m----> 3\u001b[0m x \u001b[38;5;241m=\u001b[39m \u001b[43mgalactic_coords\u001b[49m\u001b[38;5;241m.\u001b[39mcartesian\u001b[38;5;241m.\u001b[39mx\u001b[38;5;241m.\u001b[39mvalue\n\u001b[0;32m      4\u001b[0m y \u001b[38;5;241m=\u001b[39m galactic_coords\u001b[38;5;241m.\u001b[39mcartesian\u001b[38;5;241m.\u001b[39my\u001b[38;5;241m.\u001b[39mvalue\n\u001b[0;32m      5\u001b[0m z \u001b[38;5;241m=\u001b[39m galactic_coords\u001b[38;5;241m.\u001b[39mcartesian\u001b[38;5;241m.\u001b[39mz\u001b[38;5;241m.\u001b[39mvalue\n",
      "\u001b[1;31mNameError\u001b[0m: name 'galactic_coords' is not defined"
     ]
    }
   ],
   "source": [
    "# we might have to do an n body simulation to show the trend of the distance of the sunlike stars over a period of time\n",
    "#before that, we have to consider the galactic plane \n",
    "x = galactic_coords.cartesian.x.value\n",
    "y = galactic_coords.cartesian.y.value\n",
    "z = galactic_coords.cartesian.z.value\n",
    "\n",
    "# Combine x, y, z into array\n",
    "xyz = np.column_stack((x, y, z))"
   ]
  },
  {
   "cell_type": "code",
   "execution_count": null,
   "id": "54cd245b",
   "metadata": {},
   "outputs": [],
   "source": []
  }
 ],
 "metadata": {
  "kernelspec": {
   "display_name": "Python 3 (ipykernel)",
   "language": "python",
   "name": "python3"
  },
  "language_info": {
   "codemirror_mode": {
    "name": "ipython",
    "version": 3
   },
   "file_extension": ".py",
   "mimetype": "text/x-python",
   "name": "python",
   "nbconvert_exporter": "python",
   "pygments_lexer": "ipython3",
   "version": "3.9.7"
  }
 },
 "nbformat": 4,
 "nbformat_minor": 5
}
