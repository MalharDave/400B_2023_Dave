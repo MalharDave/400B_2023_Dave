{
 "cells": [
  {
   "cell_type": "code",
   "execution_count": 1,
   "id": "46343517",
   "metadata": {},
   "outputs": [],
   "source": [
    "#topic of research project: finding objects at distances around that of the sun in M31\n",
    "\n",
    "#we have to see the distance distribution of stars at a comparable distance from the centre of their galaxy to that of the sun \n",
    "#\n",
    "from Readfile import Read\n",
    "import numpy as np #importing numpy library\n",
    "import astropy.units as u #importing astropy's unit library to get our answers with their units\n",
    "import matplotlib.pyplot as plt\n",
    "#CORRECT FOR COM OF MILKY WAY \n",
    "#MAKE SURE TO HAVE COM AFTER X,Y,Z POSITION\n",
    "#no need to have a for loop for an ARRAY\n",
    "#np.where index \n",
    "\n",
    "#rotate disk in x,y plane "
   ]
  },
  {
   "cell_type": "code",
   "execution_count": 2,
   "id": "320bdf95",
   "metadata": {},
   "outputs": [],
   "source": [
    "def magd(a,b,c):\n",
    "    d= np.sqrt(a**2+b**2+c**2) \n",
    "    return d\n",
    "#below is a general function to show sun-like stars within a possible area\n",
    "#note, we have to consider the trajectory at different snapshots or time period, so this dataset is inadequate\n",
    "def sunlike_stars(filename,particle_type):\n",
    "    file=Read(filename) #using Read to get all the values from Readfile.py\n",
    "    #data=file[2]\n",
    "    t,N,data = Read(\"MW_000.txt\")\n",
    "    #using variables t for time, N for number of particles and data to get specifics \n",
    "    #about them from our text file\n",
    "    index= np.where(data['type'] == particle_type)\n",
    "    x=data['x'][index] #taking distance in x direction\n",
    "    \n",
    "    y=data['y'][index] # #taking distance in y direction\n",
    "   \n",
    "    z=data['z'][index]  #taking distance in z direction\n",
    "    print(z)\n",
    "    z.size\n",
    "    total_distance= np.sqrt(x**2+y**2+z**2) \n",
    "    \n",
    "    sun_distance=8.29 # target distance of the sun in kpc   \n",
    "    difference_distance= np.abs(total_distance-sun_distance) #finding out a comparable star at the distance of the sun\n",
    "    #sun=distances.index(min(difference_distance))\n",
    "    #sun=np.min(difference_distance)\n",
    "      \n",
    "    \n",
    "        \n",
    "    sunlike=np.where(difference_distance<= 0.1)[0]  #finding possible sunlike stars \n",
    "            \n",
    "    return sunlike "
   ]
  },
  {
   "cell_type": "code",
   "execution_count": 3,
   "id": "9ac55fc4",
   "metadata": {},
   "outputs": [
    {
     "name": "stdout",
     "output_type": "stream",
     "text": [
      "[(1., 0.00394985, -2.51725e+00,  19.1588 ,  5.28528e+01,  1.34962e-01, 116.109   ,  -85.3822 )\n",
      " (1., 0.00394985, -2.86601e+02, 298.455  ,  3.91692e+02,  5.02658e+01, -46.4521  ,   15.1825 )\n",
      " (1., 0.00394985, -5.05945e-01, -28.6337 , -8.39565e+01,  1.13833e+01,  -0.974253,  -39.3509 )\n",
      " ...\n",
      " (3., 0.00010005, -3.29432e+00,   3.36725,  1.09023e-01,  2.18821e+02,  73.4462  ,   -8.81108)\n",
      " (3., 0.00010005,  2.57806e-01,   5.31409, -6.62670e-01,  5.46121e+01, -19.0044  , -190.184  )\n",
      " (3., 0.00010005, -6.57662e-01,   3.32552, -2.51660e+00, -1.37672e+01,  44.8175  ,   16.7124 )]\n",
      "[(1., 0.00394985, -2.51725e+00,  19.1588 ,  5.28528e+01,  1.34962e-01, 116.109   ,  -85.3822 )\n",
      " (1., 0.00394985, -2.86601e+02, 298.455  ,  3.91692e+02,  5.02658e+01, -46.4521  ,   15.1825 )\n",
      " (1., 0.00394985, -5.05945e-01, -28.6337 , -8.39565e+01,  1.13833e+01,  -0.974253,  -39.3509 )\n",
      " ...\n",
      " (3., 0.00010005, -3.29432e+00,   3.36725,  1.09023e-01,  2.18821e+02,  73.4462  ,   -8.81108)\n",
      " (3., 0.00010005,  2.57806e-01,   5.31409, -6.62670e-01,  5.46121e+01, -19.0044  , -190.184  )\n",
      " (3., 0.00010005, -6.57662e-01,   3.32552, -2.51660e+00, -1.37672e+01,  44.8175  ,   16.7124 )]\n",
      "[-1.3441   -1.28954  -0.245755 ... -2.1069   -1.63853  -1.46021 ]\n",
      "[(1., 0.00394985, -2.51725e+00,  19.1588 ,  5.28528e+01,  1.34962e-01, 116.109   ,  -85.3822 )\n",
      " (1., 0.00394985, -2.86601e+02, 298.455  ,  3.91692e+02,  5.02658e+01, -46.4521  ,   15.1825 )\n",
      " (1., 0.00394985, -5.05945e-01, -28.6337 , -8.39565e+01,  1.13833e+01,  -0.974253,  -39.3509 )\n",
      " ...\n",
      " (3., 0.00010005, -3.29432e+00,   3.36725,  1.09023e-01,  2.18821e+02,  73.4462  ,   -8.81108)\n",
      " (3., 0.00010005,  2.57806e-01,   5.31409, -6.62670e-01,  5.46121e+01, -19.0044  , -190.184  )\n",
      " (3., 0.00010005, -6.57662e-01,   3.32552, -2.51660e+00, -1.37672e+01,  44.8175  ,   16.7124 )]\n"
     ]
    }
   ],
   "source": [
    "calling=sunlike_stars(\"MW_000.txt\",2)\n",
    "t, N, data = Read(\"MW_000.txt\")\n",
    "difference_distance = np.abs(magd(data['x'][calling], data['y'][calling], data['z'][calling]) - 8.29)\n"
   ]
  },
  {
   "cell_type": "code",
   "execution_count": 6,
   "id": "4713f2c5",
   "metadata": {},
   "outputs": [
    {
     "data": {
      "image/png": "[encoded data removed]",
      "text/plain": [
       "<Figure size 432x288 with 1 Axes>"
      ]
     },
     "metadata": {
      "needs_background": "light"
     },
     "output_type": "display_data"
    },
    {
     "name": "stdout",
     "output_type": "stream",
     "text": [
      "684\n"
     ]
    }
   ],
   "source": [
    "# Create a scatterplot of the sunlike candidates\n",
    "plt.scatter( difference_distance,calling)\n",
    "\n",
    "# Add title and axis labels\n",
    "plt.title('Scatterplot of showing sunlike particles at time=0, COM not accounted ')\n",
    "\n",
    "\n",
    "# Show the plot\n",
    "plt.show()\n",
    "print(difference_distance.size)"
   ]
  },
  {
   "cell_type": "code",
   "execution_count": 5,
   "id": "c3f8271d",
   "metadata": {},
   "outputs": [],
   "source": [
    "# we might have to do an n body simulation to show the trend of the distance of the sunlike stars over a period of time "
   ]
  }
 ],
 "metadata": {
  "kernelspec": {
   "display_name": "Python 3 (ipykernel)",
   "language": "python",
   "name": "python3"
  },
  "language_info": {
   "codemirror_mode": {
    "name": "ipython",
    "version": 3
   },
   "file_extension": ".py",
   "mimetype": "text/x-python",
   "name": "python",
   "nbconvert_exporter": "python",
   "pygments_lexer": "ipython3",
   "version": "3.9.7"
  }
 },
 "nbformat": 4,
 "nbformat_minor": 5
}
