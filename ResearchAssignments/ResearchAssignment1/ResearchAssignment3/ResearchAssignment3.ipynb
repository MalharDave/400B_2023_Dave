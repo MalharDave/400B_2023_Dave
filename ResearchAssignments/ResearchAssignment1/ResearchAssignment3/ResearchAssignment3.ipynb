{
 "cells": [
  {
   "cell_type": "code",
   "execution_count": 4,
   "id": "9bad313b",
   "metadata": {},
   "outputs": [],
   "source": [
    "#topic of research project: finding objects at distances around that of the sun in M31\n",
    "\n",
    "#we have to see the trajectory of stars at a comparable distance from the centre of their galaxy to that of the sun \n",
    "#\n",
    "from Readfile import Read\n",
    "import numpy as np #importing numpy library\n",
    "import astropy.units as u #importing astropy's unit library to get our answers with their units\n",
    "import matplotlib.pyplot as plt"
   ]
  },
  {
   "cell_type": "code",
   "execution_count": 8,
   "id": "f06c9082",
   "metadata": {},
   "outputs": [],
   "source": [
    "def magd(a,b,c):\n",
    "    d= np.sqrt(a**2+b**2+c**2) \n",
    "    return v\n",
    "#below is a general function to show sun-like stars within a possible area\n",
    "#note, we have to consider the trajectory at different snapshots or time period, so this dataset is inadequate\n",
    "def sunlike_stars(filename,particle_type,sunlike):\n",
    "    file=Read(filename) #using Read to get all the values from Readfile.py\n",
    "    #data=file[2]\n",
    "    t,N,data = Read(\"MW_000.txt\")\n",
    "    #using variables t for time, N for number of particles and data to get specifics \n",
    "    #about them from our text file\n",
    "    index= np.where(data['type'] == particle_type)\n",
    "    x=data['x'][index][particle_number] #taking distance in x direction\n",
    "    x=x*u.kpc #converting it to kpc \n",
    "    y=data['y'][index][particle_number] # #taking distance in y direction\n",
    "    y=y*u.kpc #converting it to kpc \n",
    "    z=data['z'][index][particle_number]  #taking distance in z direction\n",
    "    total_distance=magd(x,y,z)\n",
    "    sun_distance=8.0 # target distance of the sun in kpc   \n",
    "    difference_distance= [np.abs(total_distance-sun_distance)]  #finding out a comparable star at the distance of the sun\n",
    "    sun=distances.index(min(difference_distance))\n",
    "    sunlike = np.abs(total_distance- sun) / sun <= 0.1 #finding possible sunlike stars \n",
    "    return sunlike "
   ]
  },
  {
   "cell_type": "code",
   "execution_count": 9,
   "id": "cfb4392d",
   "metadata": {},
   "outputs": [
    {
     "ename": "NameError",
     "evalue": "name 'sunlike' is not defined",
     "output_type": "error",
     "traceback": [
      "\u001b[1;31m---------------------------------------------------------------------------\u001b[0m",
      "\u001b[1;31mNameError\u001b[0m                                 Traceback (most recent call last)",
      "Input \u001b[1;32mIn [9]\u001b[0m, in \u001b[0;36m<cell line: 1>\u001b[1;34m()\u001b[0m\n\u001b[1;32m----> 1\u001b[0m \u001b[38;5;28mprint\u001b[39m(test\u001b[38;5;241m=\u001b[39msunlike_stars(\u001b[43msunlike\u001b[49m))\n",
      "\u001b[1;31mNameError\u001b[0m: name 'sunlike' is not defined"
     ]
    }
   ],
   "source": [
    "# Create a scatterplot of the sunlike candidates\n",
    "plt.scatter(sunlike, y)\n",
    "\n",
    "# Add title and axis labels\n",
    "plt.title('Scatterplot of showing sunlike particles at time= ')\n",
    "\n",
    "\n",
    "# Show the plot\n",
    "plt.show()"
   ]
  },
  {
   "cell_type": "code",
   "execution_count": null,
   "id": "c63e386f",
   "metadata": {},
   "outputs": [],
   "source": []
  }
 ],
 "metadata": {
  "kernelspec": {
   "display_name": "Python 3 (ipykernel)",
   "language": "python",
   "name": "python3"
  },
  "language_info": {
   "codemirror_mode": {
    "name": "ipython",
    "version": 3
   },
   "file_extension": ".py",
   "mimetype": "text/x-python",
   "name": "python",
   "nbconvert_exporter": "python",
   "pygments_lexer": "ipython3",
   "version": "3.9.7"
  }
 },
 "nbformat": 4,
 "nbformat_minor": 5
}
